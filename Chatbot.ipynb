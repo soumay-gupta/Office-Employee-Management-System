{
  "nbformat": 4,
  "nbformat_minor": 0,
  "metadata": {
    "colab": {
      "provenance": []
    },
    "kernelspec": {
      "name": "python3",
      "display_name": "Python 3"
    },
    "language_info": {
      "name": "python"
    }
  },
  "cells": [
    {
      "cell_type": "code",
      "execution_count": null,
      "metadata": {
        "colab": {
          "base_uri": "https://localhost:8080/"
        },
        "id": "JUHRFEB8P9u9",
        "outputId": "1f1b4eb3-8463-4d5a-f3fc-b9155dc386a0"
      },
      "outputs": [
        {
          "output_type": "stream",
          "name": "stdout",
          "text": [
            "Hi, I'm Chatbot. How can I help you today?\n"
          ]
        }
      ],
      "source": [
        "import random\n",
        "\n",
        "responses = {\n",
        "    \"hello\": [\"Hi there!\", \"Hello!\", \"Hey!\"],\n",
        "    \"how are you\": [\"I'm doing well, thank you.\", \"Not too bad, thanks for asking.\", \"I'm just fine.\"],\n",
        "    \"what's your name\": [\"My name is Chatbot.\", \"I go by Chatbot.\", \"You can call me Chatbot.\"],\n",
        "    \"default\": [\"I'm sorry, I didn't understand what you said.\", \"Can you please rephrase that?\", \"I'm not sure what you mean.\"],\n",
        "}\n",
        "\n",
        "def get_response(user_input):\n",
        "    user_input = user_input.lower().strip()\n",
        "   \n",
        "    if user_input in responses:\n",
        "        return random.choice(responses[user_input])\n",
        "    else:\n",
        "        return random.choice(responses[\"default\"])\n",
        "\n",
        "\n",
        "def run_chatbot():\n",
        "    print(\"Hi, I'm Chatbot. How can I help you today?\")\n",
        "   \n",
        "    while True:\n",
        "        user_input = input(\"You: \")\n",
        "       \n",
        "        bot_response = get_response(user_input)\n",
        "       \n",
        "        print(\"Chatbot: \" + bot_response)\n",
        "       \n",
        "        if user_input.lower().strip() == \"bye\":\n",
        "            print(\"Chatbot: Goodbye!\")\n",
        "            break\n",
        "\n",
        "run_chatbot()\n"
      ]
    }
  ]
}