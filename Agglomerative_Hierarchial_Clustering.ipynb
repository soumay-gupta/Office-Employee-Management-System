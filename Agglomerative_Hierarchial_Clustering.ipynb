{
  "nbformat": 4,
  "nbformat_minor": 0,
  "metadata": {
    "colab": {
      "provenance": []
    },
    "kernelspec": {
      "name": "python3",
      "display_name": "Python 3"
    },
    "language_info": {
      "name": "python"
    }
  },
  "cells": [
    {
      "cell_type": "code",
      "execution_count": 11,
      "metadata": {
        "colab": {
          "base_uri": "https://localhost:8080/",
          "height": 696
        },
        "id": "JUHRFEB8P9u9",
        "outputId": "e73957fe-c3ba-408e-b381-ea880c3e5d5b"
      },
      "outputs": [
        {
          "output_type": "display_data",
          "data": {
            "text/plain": [
              "<Figure size 1000x600 with 1 Axes>"
            ],
            "image/png": "[encoded data removed]"
          },
          "metadata": {}
        },
        {
          "output_type": "stream",
          "name": "stdout",
          "text": [
            "[157 157 160 160 162 163 163 164 167 168 168 169 170 170 171 172 173 174\n",
            " 175 175 176 177 178 179 180 181 182 183 184 185 186 187 188 189 189 190\n",
            " 191 192 193 194 195 196 197 198 199 200 201 202 203 204 205 206 207 208\n",
            " 209 210 211 212 213 214 215 216 217 218 219 220 221 222 223 224 225 226\n",
            " 227 228 229 230 231 232 233 234 235 236 237 238 239 240 241 242 243 244\n",
            " 245 246 247 248 249 250 251 252 253 254 255 256 256 256 256 256 256 256\n",
            " 256 256 256 257 258 259 260 261 262 263 264 265 266 267 268 269 270 271\n",
            " 272 273 274 275 276 277 278 279 280 281 282 283 284 285 286 287 288 289\n",
            " 290 291 292 293 294 295]\n"
          ]
        }
      ],
      "source": [
        "import numpy as np\n",
        "import matplotlib.pyplot as plt\n",
        "from sklearn.datasets import load_iris\n",
        "\n",
        "class AgglomerativeClustering:\n",
        "    def __init__(self, n_clusters):\n",
        "        self.n_clusters = n_clusters\n",
        "   \n",
        "    def fit(self, X):\n",
        "        clusters = [[i] for i in range(X.shape[0])]\n",
        "        dist_matrix = np.zeros((X.shape[0], X.shape[0]))\n",
        "        for i in range(X.shape[0]):\n",
        "            for j in range(i+1, X.shape[0]):\n",
        "                dist_matrix[i,j] = np.linalg.norm(X[i,:] - X[j,:])\n",
        "        dendrogram = np.zeros((X.shape[0]-1, 4))\n",
        "        for i in range(X.shape[0]-1):\n",
        "            min_dist = np.inf\n",
        "            for j in range(len(clusters)):\n",
        "                for k in range(j+1, len(clusters)):\n",
        "                    dist = np.min(dist_matrix[clusters[j],:][:,clusters[k]])\n",
        "                    if dist < min_dist:\n",
        "                        min_dist = dist\n",
        "                        merge_clusters = (j,k)\n",
        "            dendrogram[i,0] = merge_clusters[0]\n",
        "            dendrogram[i,1] = merge_clusters[1]\n",
        "            dendrogram[i,2] = min_dist\n",
        "            dendrogram[i,3] = len(clusters[merge_clusters[0]]) + len(clusters[merge_clusters[1]])\n",
        "            clusters[merge_clusters[0]] += clusters[merge_clusters[1]]\n",
        "            del clusters[merge_clusters[1]]\n",
        "            # Update the distance matrix\n",
        "            for j in range(len(clusters)-1):\n",
        "                for k in range(j+1, len(clusters)):\n",
        "                    min_dists = []\n",
        "                    for l in clusters[j]:\n",
        "                        for m in clusters[k]:\n",
        "                            min_dists.append(dist_matrix[l,m])\n",
        "                    dist_matrix[j,k] = min(min_dists)\n",
        "                    dist_matrix[k,j] = dist_matrix[j,k]\n",
        "        self.labels_ = np.zeros(X.shape[0], dtype=np.int32)\n",
        "        for i in range(X.shape[0]):\n",
        "            for j in range(dendrogram.shape[0]):\n",
        "                if dendrogram[j,0] <= i < dendrogram[j,3]:\n",
        "                    self.labels_[i] = j + X.shape[0] - self.n_clusters\n",
        "                    break\n",
        "        self.dendrogram = dendrogram\n",
        "   \n",
        "\n",
        "    def plot_dendrogram(self):\n",
        "        # Plot the dendrogram\n",
        "        plt.figure(figsize=(10,6))\n",
        "        plt.title('Dendrogram')\n",
        "        plt.xlabel('Observations')\n",
        "        plt.ylabel('Distance')\n",
        "        plt.xticks([])\n",
        "        plt.yticks([])\n",
        "        for i in range(self.dendrogram.shape[0]):\n",
        "            x1 = self.dendrogram[i,0]\n",
        "            x2 = self.dendrogram[i,1]\n",
        "            y1 = self.dendrogram[i,2]\n",
        "            y2 = self.dendrogram[i,3]\n",
        "            plt.plot([x1,x1,x2,x2], [y1,y2,y2,y1], 'k-')\n",
        "        plt.show()\n",
        "\n",
        "\n",
        "iris = load_iris()\n",
        "X = iris.data\n",
        "\n",
        "n_clusters = 3\n",
        "model = AgglomerativeClustering(n_clusters)\n",
        "\n",
        "model.fit(X)\n",
        "model.plot_dendrogram()\n",
        "\n",
        "print(model.labels_)\n"
      ]
    }
  ]
}