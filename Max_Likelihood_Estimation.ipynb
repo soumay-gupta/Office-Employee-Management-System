{
  "nbformat": 4,
  "nbformat_minor": 0,
  "metadata": {
    "colab": {
      "provenance": []
    },
    "kernelspec": {
      "name": "python3",
      "display_name": "Python 3"
    },
    "language_info": {
      "name": "python"
    }
  },
  "cells": [
    {
      "cell_type": "code",
      "execution_count": 10,
      "metadata": {
        "colab": {
          "base_uri": "https://localhost:8080/"
        },
        "id": "JUHRFEB8P9u9",
        "outputId": "ee2e9c88-9116-431e-d1d6-a0b9fc38d815"
      },
      "outputs": [
        {
          "output_type": "stream",
          "name": "stdout",
          "text": [
            "mu: 5.05421814698072\n",
            "sigma: 2.256480940955922\n"
          ]
        }
      ],
      "source": [
        "import numpy as np\n",
        "\n",
        "\n",
        "def likelihood(x, mu, sigma):\n",
        "    n = len(x)\n",
        "    log_likelihood = -n/2*np.log(2*np.pi*sigma**2) - np.sum((x-mu)**2)/(2*sigma**2)\n",
        "    return log_likelihood\n",
        "\n",
        "def d_likelihood_mu(x, mu, sigma):\n",
        "    n = len(x)\n",
        "    d_log_likelihood_mu = np.sum((mu-x)/(sigma**2))\n",
        "    return d_log_likelihood_mu\n",
        "\n",
        "def d_likelihood_sigma(x, mu, sigma):\n",
        "    n = len(x)\n",
        "    d_log_likelihood_sigma = -n/(2*sigma**2) + np.sum((x-mu)**2)/(2*sigma**4)\n",
        "    return d_log_likelihood_sigma\n",
        "\n",
        "\n",
        "def maximum_likelihood_estimation(x):\n",
        "    mu = np.mean(x)\n",
        "    sigma = np.std(x)\n",
        "\n",
        "    alpha = 0.1\n",
        "    epsilon = 1e-5\n",
        "\n",
        "    while True:\n",
        "        d_mu = d_likelihood_mu(x, mu, sigma)\n",
        "        d_sigma = d_likelihood_sigma(x, mu, sigma)\n",
        "        mu -= alpha*d_mu\n",
        "        sigma -= alpha*d_sigma\n",
        "\n",
        "        if np.abs(d_mu) < epsilon and np.abs(d_sigma) < epsilon:\n",
        "            break\n",
        "\n",
        "    return mu, sigma\n",
        "\n",
        "np.random.seed(123)\n",
        "x = np.random.normal(loc=5, scale=2, size=100)\n",
        "\n",
        "mu, sigma = maximum_likelihood_estimation(x)\n",
        "\n",
        "print('mu:', mu)\n",
        "print('sigma:', sigma)\n"
      ]
    }
  ]
}