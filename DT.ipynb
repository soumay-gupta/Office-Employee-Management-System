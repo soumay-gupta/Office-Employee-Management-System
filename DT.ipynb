{
  "nbformat": 4,
  "nbformat_minor": 0,
  "metadata": {
    "colab": {
      "provenance": []
    },
    "kernelspec": {
      "name": "python3",
      "display_name": "Python 3"
    },
    "language_info": {
      "name": "python"
    }
  },
  "cells": [
    {
      "cell_type": "code",
      "execution_count": 6,
      "metadata": {
        "colab": {
          "base_uri": "https://localhost:8080/"
        },
        "id": "JUHRFEB8P9u9",
        "outputId": "866ee270-b6cb-469b-e45d-ba0cf3ad27e8"
      },
      "outputs": [
        {
          "output_type": "stream",
          "name": "stdout",
          "text": [
            "Accuracy: 0.9777777777777777\n"
          ]
        }
      ],
      "source": [
        "import numpy as np\n",
        "from sklearn.datasets import load_iris\n",
        "from sklearn.model_selection import train_test_split\n",
        "\n",
        "class DecisionTree:\n",
        "    def __init__(self, max_depth=5, min_samples_split=2):\n",
        "        self.max_depth = max_depth\n",
        "        self.min_samples_split = min_samples_split\n",
        "   \n",
        "    def fit(self, X, y):\n",
        "        class Node:\n",
        "            def __init__(self, feature_idx=None, threshold=None, left=None, right=None, is_leaf=False, label=None):\n",
        "                self.feature_idx = feature_idx\n",
        "                self.threshold = threshold\n",
        "                self.left = left\n",
        "                self.right = right\n",
        "                self.is_leaf = is_leaf\n",
        "                self.label = label\n",
        "       \n",
        "        def entropy(y):\n",
        "            _, counts = np.unique(y, return_counts=True)\n",
        "            p = counts / len(y)\n",
        "            return -np.sum(p * np.log2(p))\n",
        "       \n",
        "        def info_gain(X, y, feature_idx, threshold):\n",
        "            left_idx = X[:, feature_idx] < threshold\n",
        "            left_y = y[left_idx]\n",
        "            right_y = y[~left_idx]\n",
        "            p_left = len(left_y) / len(y)\n",
        "            p_right = 1 - p_left\n",
        "            ig = entropy(y) - p_left * entropy(left_y) - p_right * entropy(right_y)\n",
        "            return ig\n",
        "       \n",
        "        def split(X, y, depth):\n",
        "            if depth >= self.max_depth or len(X) < self.min_samples_split or len(np.unique(y)) == 1:\n",
        "                label = np.bincount(y).argmax()\n",
        "                return Node(is_leaf=True, label=label)\n",
        "           \n",
        "            best_feature_idx, best_threshold, best_ig = None, None, 0\n",
        "            for feature_idx in range(X.shape[1]):\n",
        "                thresholds = np.unique(X[:, feature_idx])\n",
        "                for threshold in thresholds:\n",
        "                    ig = info_gain(X, y, feature_idx, threshold)\n",
        "                    if ig > best_ig:\n",
        "                        best_feature_idx, best_threshold, best_ig = feature_idx, threshold, ig\n",
        "           \n",
        "            left_idx = X[:, best_feature_idx] < best_threshold\n",
        "            right_idx = ~left_idx\n",
        "            left_node = split(X[left_idx], y[left_idx], depth+1)\n",
        "            right_node = split(X[right_idx], y[right_idx], depth+1)\n",
        "            return Node(feature_idx=best_feature_idx, threshold=best_threshold, left=left_node, right=right_node)\n",
        "       \n",
        "        self.root = split(X, y, depth=0)\n",
        "   \n",
        "    def predict(self, X):\n",
        "        def traverse(node, x):\n",
        "            if node.is_leaf:\n",
        "                return node.label\n",
        "            if x[node.feature_idx] < node.threshold:\n",
        "                return traverse(node.left, x)\n",
        "            else:\n",
        "                return traverse(node.right, x)\n",
        "       \n",
        "        y_pred = np.array([traverse(self.root, x) for x in X])\n",
        "        return y_pred\n",
        "\n",
        "iris = load_iris()\n",
        "X, y = iris.data, iris.target\n",
        "\n",
        "X_train, X_test, y_train, y_test = train_test_split(X, y, test_size=0.3, random_state=42)\n",
        "\n",
        "dt = DecisionTree()\n",
        "dt.fit(X_train, y_train)\n",
        "\n",
        "y_pred = dt.predict(X_test)\n",
        "\n",
        "accuracy = np.sum(y_pred == y_test) / len(y_test)\n",
        "print(\"Accuracy:\", accuracy)\n"
      ]
    }
  ]
}